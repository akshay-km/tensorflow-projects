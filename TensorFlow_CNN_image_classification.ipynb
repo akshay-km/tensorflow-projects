{
 "cells": [
  {
   "cell_type": "markdown",
   "id": "03de52f6",
   "metadata": {},
   "source": [
    "<h1 style=\"text-align:center\"> Image Classification using Convolutional Neural Networks built using TensorFlow </h1>"
   ]
  },
  {
   "cell_type": "markdown",
   "id": "7610b3dd",
   "metadata": {},
   "source": [
    "## Importing MNIST dataset"
   ]
  },
  {
   "cell_type": "markdown",
   "id": "d9fc954e",
   "metadata": {},
   "source": [
    "The MNIST is a database of handwritten digits that has a training set of 60,000 examples, and a test set of 10,000 examples. It is a subset of a larger set available from NIST. The digits have been size-normalized and centered in a fixed-size image"
   ]
  },
  {
   "cell_type": "code",
   "execution_count": 6,
   "id": "47a505d9",
   "metadata": {
    "scrolled": false
   },
   "outputs": [],
   "source": [
    "import warnings\n",
    "warnings.filterwarnings('ignore')\n",
    "import tensorflow as tf\n"
   ]
  },
  {
   "cell_type": "code",
   "execution_count": 7,
   "id": "34c80cfa",
   "metadata": {
    "scrolled": true
   },
   "outputs": [],
   "source": [
    "mnist = tf.keras.datasets.mnist\n",
    "(x_train, y_train), (x_test, y_test) = mnist.load_data()"
   ]
  },
  {
   "cell_type": "markdown",
   "id": "7fb06bdb",
   "metadata": {},
   "source": [
    "The features data are between 0 and 255 .Normalizing this to improve optimization performance"
   ]
  },
  {
   "cell_type": "code",
   "execution_count": 8,
   "id": "bb81d50c",
   "metadata": {},
   "outputs": [],
   "source": [
    "#normalize data\n",
    "x_train = x_train / 255.0\n",
    "x_test = x_test / 255.0"
   ]
  },
  {
   "cell_type": "code",
   "execution_count": 9,
   "id": "75a95b4e",
   "metadata": {},
   "outputs": [
    {
     "name": "stdout",
     "output_type": "stream",
     "text": [
      "categorical labels\n",
      "[5 0 4 1 9]\n",
      "one hot encoded labels\n",
      "tf.Tensor(\n",
      "[[0. 0. 0. 0. 0. 1. 0. 0. 0. 0.]\n",
      " [1. 0. 0. 0. 0. 0. 0. 0. 0. 0.]\n",
      " [0. 0. 0. 0. 1. 0. 0. 0. 0. 0.]\n",
      " [0. 1. 0. 0. 0. 0. 0. 0. 0. 0.]\n",
      " [0. 0. 0. 0. 0. 0. 0. 0. 0. 1.]], shape=(5, 10), dtype=float32)\n"
     ]
    }
   ],
   "source": [
    "print(\"categorical labels\")\n",
    "print(y_train[0:5])\n",
    "\n",
    "# make labels one hot encoded\n",
    "y_train = tf.one_hot(y_train, 10)\n",
    "y_test = tf.one_hot(y_test, 10)\n",
    "\n",
    "print(\"one hot encoded labels\")\n",
    "print(y_train[0:5])"
   ]
  },
  {
   "cell_type": "markdown",
   "id": "739decb3",
   "metadata": {},
   "source": [
    "Define batch sizes to improve performance by  computing gradients over smaller batches. "
   ]
  },
  {
   "cell_type": "code",
   "execution_count": 13,
   "id": "f5eed6e6",
   "metadata": {
    "scrolled": true
   },
   "outputs": [
    {
     "name": "stderr",
     "output_type": "stream",
     "text": [
      "2024-02-13 23:31:01.232365: W external/local_tsl/tsl/framework/cpu_allocator_impl.cc:83] Allocation of 376320000 exceeds 10% of free system memory.\n"
     ]
    }
   ],
   "source": [
    "train_ds = tf.data.Dataset.from_tensor_slices((x_train, y_train)).batch(50)\n",
    "test_ds = tf.data.Dataset.from_tensor_slices((x_test, y_test)).batch(50)"
   ]
  },
  {
   "cell_type": "markdown",
   "id": "6e7faf00",
   "metadata": {},
   "source": [
    "## 1. Classify MNIST using a Simple Model"
   ]
  },
  {
   "cell_type": "code",
   "execution_count": 14,
   "id": "31568692",
   "metadata": {},
   "outputs": [],
   "source": [
    "# Weight tensor\n",
    "W = tf.Variable(tf.zeros([784, 10], tf.float32))\n",
    "# Bias tensor\n",
    "b = tf.Variable(tf.zeros([10], tf.float32))"
   ]
  },
  {
   "cell_type": "markdown",
   "id": "ae28a8cf",
   "metadata": {},
   "source": [
    "### **Forward Propagation**"
   ]
  },
  {
   "cell_type": "code",
   "execution_count": 15,
   "id": "a8ac53f7",
   "metadata": {},
   "outputs": [],
   "source": [
    "def forward(x):\n",
    "    return tf.matmul(x,W) + b"
   ]
  },
  {
   "cell_type": "markdown",
   "id": "b457c152",
   "metadata": {},
   "source": [
    "### Softmax Regression"
   ]
  },
  {
   "cell_type": "code",
   "execution_count": 17,
   "id": "747c6d26",
   "metadata": {},
   "outputs": [],
   "source": [
    "def activate(x):\n",
    "    return tf.nn.softmax(forward(x))"
   ]
  },
  {
   "cell_type": "code",
   "execution_count": 19,
   "id": "e76f02bc",
   "metadata": {},
   "outputs": [],
   "source": [
    "#converting 2D image to 1D\n",
    "from tensorflow.keras.layers import Flatten\n",
    "flatten = Flatten(dtype='float32')\n",
    "\n",
    "def model(x):\n",
    "    x = flatten(x)\n",
    "    return activate(x)\n",
    "    "
   ]
  },
  {
   "cell_type": "markdown",
   "id": "4440a40d",
   "metadata": {},
   "source": [
    "### Cost Function"
   ]
  },
  {
   "cell_type": "code",
   "execution_count": 20,
   "id": "1773c56c",
   "metadata": {},
   "outputs": [],
   "source": [
    "def cross_entropy(y_label, y_pred):\n",
    "    return (-tf.reduce_sum(y_label * tf.math.log(y_pred + 1.e-10)))"
   ]
  },
  {
   "cell_type": "markdown",
   "id": "ccae3780",
   "metadata": {},
   "source": [
    "### Optimization : Gradient Descent"
   ]
  },
  {
   "cell_type": "code",
   "execution_count": 21,
   "id": "1d2ae068",
   "metadata": {},
   "outputs": [],
   "source": [
    "optimizer = tf.keras.optimizers.SGD(learning_rate=0.25)"
   ]
  },
  {
   "cell_type": "markdown",
   "id": "4818b4db",
   "metadata": {},
   "source": [
    "Training Step"
   ]
  },
  {
   "cell_type": "code",
   "execution_count": 22,
   "id": "0909407c",
   "metadata": {},
   "outputs": [],
   "source": [
    "def train_step(x, y ):\n",
    "    with tf.GradientTape() as tape:\n",
    "        #compute loss function\n",
    "        current_loss = cross_entropy( y, model(x))\n",
    "        # compute gradient of loss \n",
    "        grads = tape.gradient( current_loss , [W,b] )\n",
    "        # Apply SGD step to Variables W and b\n",
    "        optimizer.apply_gradients( zip( grads , [W,b] ) )     \n",
    "    return current_loss.numpy()"
   ]
  },
  {
   "cell_type": "markdown",
   "id": "e433678a",
   "metadata": {},
   "source": [
    "### Training batches"
   ]
  },
  {
   "cell_type": "code",
   "execution_count": 24,
   "id": "f629f718",
   "metadata": {},
   "outputs": [
    {
     "name": "stderr",
     "output_type": "stream",
     "text": [
      "2024-02-13 23:40:22.032250: W external/local_tsl/tsl/framework/cpu_allocator_impl.cc:83] Allocation of 376320000 exceeds 10% of free system memory.\n"
     ]
    },
    {
     "name": "stdout",
     "output_type": "stream",
     "text": [
      "epoch  0 batch 500 loss: 308.78094\n",
      "epoch  0 batch 1000 loss: 243.85347\n",
      "end of epoch  0 loss 335063.8 accuracy 0.73728335\n",
      "epoch  1 batch 500 loss: 270.43488\n",
      "epoch  1 batch 1000 loss: 239.25098\n",
      "end of epoch  1 loss 331978.1 accuracy 0.74156666\n",
      "epoch  2 batch 500 loss: 290.95187\n",
      "epoch  2 batch 1000 loss: 253.18973\n",
      "end of epoch  2 loss 325348.22 accuracy 0.7507667\n",
      "epoch  3 batch 500 loss: 292.71637\n",
      "epoch  3 batch 1000 loss: 260.54138\n",
      "end of epoch  3 loss 321318.7 accuracy 0.75453335\n",
      "epoch  4 batch 500 loss: 289.2487\n",
      "epoch  4 batch 1000 loss: 242.80728\n",
      "end of epoch  4 loss 326882.06 accuracy 0.7500833\n",
      "epoch  5 batch 500 loss: 280.16818\n",
      "epoch  5 batch 1000 loss: 230.50214\n",
      "end of epoch  5 loss 321615.72 accuracy 0.75516665\n",
      "epoch  6 batch 500 loss: 277.45898\n",
      "epoch  6 batch 1000 loss: 230.25873\n",
      "end of epoch  6 loss 318383.16 accuracy 0.7596667\n",
      "epoch  7 batch 500 loss: 296.34238\n",
      "epoch  7 batch 1000 loss: 230.25853\n",
      "end of epoch  7 loss 317834.22 accuracy 0.7604667\n",
      "epoch  8 batch 500 loss: 294.98904\n",
      "epoch  8 batch 1000 loss: 241.22311\n",
      "end of epoch  8 loss 319660.38 accuracy 0.7583333\n",
      "epoch  9 batch 500 loss: 288.79962\n",
      "epoch  9 batch 1000 loss: 230.17444\n",
      "end of epoch  9 loss 319884.72 accuracy 0.7582833\n"
     ]
    }
   ],
   "source": [
    "loss_values=[]\n",
    "accuracies = []\n",
    "epochs = 10\n",
    "\n",
    "for i in range(epochs):\n",
    "    j=0\n",
    "    for x_train_batch, y_train_batch in train_ds:\n",
    "        j+=1\n",
    "        current_loss = train_step(x_train_batch, y_train_batch)\n",
    "        if j%500==0:\n",
    "            print(\"epoch \", str(i), \"batch\", str(j), \"loss:\", str(current_loss) ) \n",
    "    \n",
    "    # collecting statistics at each epoch...loss function and accuracy\n",
    "    current_loss = cross_entropy( y_train, model( x_train )).numpy()\n",
    "    loss_values.append(current_loss)\n",
    "    correct_prediction = tf.equal(tf.argmax(model(x_train), axis=1),\n",
    "                                  tf.argmax(y_train, axis=1))\n",
    "    #  accuracy\n",
    "    accuracy = tf.reduce_mean(tf.cast(correct_prediction, tf.float32)).numpy()\n",
    "    accuracies.append(accuracy)\n",
    "    print(\"end of epoch \", str(i), \"loss\", str(current_loss), \"accuracy\", str(accuracy) ) \n"
   ]
  },
  {
   "cell_type": "markdown",
   "id": "d9bbb775",
   "metadata": {},
   "source": [
    "### Evaluation"
   ]
  },
  {
   "cell_type": "code",
   "execution_count": 26,
   "id": "63657236",
   "metadata": {},
   "outputs": [
    {
     "name": "stdout",
     "output_type": "stream",
     "text": [
      "training accuracy 0.7582833\n",
      "test accuracy 0.7536\n"
     ]
    }
   ],
   "source": [
    "correct_prediction_train = tf.equal(tf.argmax(model(x_train), axis=1),tf.argmax(y_train,axis=1))\n",
    "accuracy_train = tf.reduce_mean(tf.cast(correct_prediction_train, tf.float32)).numpy()\n",
    "\n",
    "correct_prediction_test = tf.equal(tf.argmax(model(x_test), axis=1),tf.argmax(y_test, axis=1))\n",
    "accuracy_test = tf.reduce_mean(tf.cast(correct_prediction_test, tf.float32)).numpy()\n",
    "\n",
    "print(\"training accuracy\", accuracy_train)\n",
    "print(\"test accuracy\", accuracy_test)"
   ]
  },
  {
   "cell_type": "code",
   "execution_count": 27,
   "id": "fea17fdc",
   "metadata": {},
   "outputs": [
    {
     "data": {
      "text/plain": [
       "Text(0.5, 0, 'epoch')"
      ]
     },
     "execution_count": 27,
     "metadata": {},
     "output_type": "execute_result"
    },
    {
     "data": {
      "image/png": "[encoded data removed]",
      "text/plain": [
       "<Figure size 1000x600 with 1 Axes>"
      ]
     },
     "metadata": {},
     "output_type": "display_data"
    }
   ],
   "source": [
    "import matplotlib.pyplot as plt\n",
    "%matplotlib inline\n",
    "plt.rcParams['figure.figsize'] = (10, 6)\n",
    "#print(loss_values)\n",
    "plt.plot(loss_values,'-ro')\n",
    "plt.title(\"loss per epoch\")\n",
    "plt.xlabel(\"epoch\")"
   ]
  },
  {
   "cell_type": "code",
   "execution_count": 28,
   "id": "8eab0ef2",
   "metadata": {},
   "outputs": [
    {
     "data": {
      "text/plain": [
       "Text(0, 0.5, 'accuracy')"
      ]
     },
     "execution_count": 28,
     "metadata": {},
     "output_type": "execute_result"
    },
    {
     "data": {
      "image/png": "[encoded data removed]",
      "text/plain": [
       "<Figure size 1000x600 with 1 Axes>"
      ]
     },
     "metadata": {},
     "output_type": "display_data"
    }
   ],
   "source": [
    "plt.plot(accuracies,'-ro')\n",
    "plt.title(\"accuracy per epoch\")\n",
    "plt.xlabel(\"epoch\")\n",
    "plt.ylabel(\"accuracy\")"
   ]
  },
  {
   "cell_type": "markdown",
   "id": "eac34934",
   "metadata": {},
   "source": [
    "### Final result"
   ]
  },
  {
   "cell_type": "markdown",
   "id": "844f6735",
   "metadata": {},
   "source": [
    "**The Simple Model achieved Accuracy above 75%**"
   ]
  },
  {
   "cell_type": "markdown",
   "id": "989a3a84",
   "metadata": {},
   "source": [
    "## 2. Classification using Deep Learning model on MNIST"
   ]
  },
  {
   "cell_type": "markdown",
   "id": "5626fffa",
   "metadata": {},
   "source": [
    "Architecture of the Deep Learning network is:\n",
    "\n",
    "* (Input) -> [batch_size, 28, 28, 1] >> Apply 32 filter of [5x5]\n",
    "* (Convolutional layer 1) -> [batch_size, 28, 28, 32]\n",
    "* (ReLU 1) -> [?, 28, 28, 32]\n",
    "* (Max pooling 1) -> [?, 14, 14, 32]\n",
    "* (Convolutional layer 2) -> [?, 14, 14, 64]\n",
    "* (ReLU 2) -> [?, 14, 14, 64]\n",
    "* (Max pooling 2) -> [?, 7, 7, 64]\n",
    "* [fully connected layer 3] -> [1x1024]\n",
    "* [ReLU 3] -> [1x1024]\n",
    "* [Drop out] -> [1x1024]\n",
    "* [fully connected layer 4] -> [1x10]"
   ]
  },
  {
   "cell_type": "markdown",
   "id": "72b62a07",
   "metadata": {},
   "source": [
    "### Initial Parameters"
   ]
  },
  {
   "cell_type": "code",
   "execution_count": 32,
   "id": "b0b02cac",
   "metadata": {},
   "outputs": [],
   "source": [
    "width = 28 # width of the image in pixels \n",
    "height = 28 # height of the image in pixels\n",
    "flat = width * height # number of pixels in one image \n",
    "class_output = 10 # number of possible classifications for the problem"
   ]
  },
  {
   "cell_type": "markdown",
   "id": "a20670cd",
   "metadata": {},
   "source": [
    "### Converting images of the data set to tensors"
   ]
  },
  {
   "cell_type": "code",
   "execution_count": 34,
   "id": "b5bb185a",
   "metadata": {},
   "outputs": [],
   "source": [
    "x_image_train = tf.reshape(x_train, [-1,28,28,1])  \n",
    "x_image_train = tf.cast(x_image_train, 'float32') \n",
    "\n",
    "x_image_test = tf.reshape(x_test, [-1,28,28,1]) \n",
    "x_image_test = tf.cast(x_image_test, 'float32') \n",
    "\n",
    "#creating new dataset with reshaped inputs\n",
    "train_ds2 = tf.data.Dataset.from_tensor_slices((x_image_train, y_train)).batch(50)\n",
    "test_ds2 = tf.data.Dataset.from_tensor_slices((x_image_test, y_test)).batch(50)"
   ]
  },
  {
   "cell_type": "markdown",
   "id": "8240332e",
   "metadata": {},
   "source": [
    "### Convolutional Layer 1"
   ]
  },
  {
   "cell_type": "code",
   "execution_count": 35,
   "id": "7a654937",
   "metadata": {},
   "outputs": [],
   "source": [
    "W_conv1 = tf.Variable(tf.random.truncated_normal([5, 5, 1, 32], stddev=0.1, seed=0))\n",
    "b_conv1 = tf.Variable(tf.constant(0.1, shape=[32])) # need 32 biases for 32 outputs"
   ]
  },
  {
   "cell_type": "code",
   "execution_count": 36,
   "id": "631e502e",
   "metadata": {},
   "outputs": [],
   "source": [
    "def convolve1(x):\n",
    "    return(\n",
    "        tf.nn.conv2d(x, W_conv1, strides=[1, 1, 1, 1], padding='SAME') + b_conv1)"
   ]
  },
  {
   "cell_type": "markdown",
   "id": "937640d4",
   "metadata": {},
   "source": [
    "#### RelU activation Function"
   ]
  },
  {
   "cell_type": "code",
   "execution_count": 37,
   "id": "9e8d06b0",
   "metadata": {},
   "outputs": [],
   "source": [
    "def h_conv1(x): \n",
    "    return(tf.nn.relu(convolve1(x)))"
   ]
  },
  {
   "cell_type": "markdown",
   "id": "a4e5d949",
   "metadata": {},
   "source": [
    "#### Max pooling"
   ]
  },
  {
   "cell_type": "code",
   "execution_count": 38,
   "id": "73473527",
   "metadata": {},
   "outputs": [],
   "source": [
    "def conv1(x):\n",
    "    return tf.nn.max_pool(h_conv1(x), ksize=[1, 2, 2, 1], \n",
    "                          strides=[1, 2, 2, 1], padding='SAME')"
   ]
  },
  {
   "cell_type": "markdown",
   "id": "d6cf2da6",
   "metadata": {},
   "source": [
    "### Convolutional Layer 2\n"
   ]
  },
  {
   "cell_type": "code",
   "execution_count": 40,
   "id": "2ad613a9",
   "metadata": {},
   "outputs": [],
   "source": [
    "W_conv2 = tf.Variable(tf.random.truncated_normal([5, 5, 32, 64], stddev=0.1, seed=1))\n",
    "b_conv2 = tf.Variable(tf.constant(0.1, shape=[64])) #need 64 biases for 64 outputs"
   ]
  },
  {
   "cell_type": "code",
   "execution_count": 41,
   "id": "705411b2",
   "metadata": {},
   "outputs": [],
   "source": [
    "def convolve2(x): \n",
    "    return( \n",
    "    tf.nn.conv2d(conv1(x), W_conv2, strides=[1, 1, 1, 1], padding='SAME') + b_conv2)"
   ]
  },
  {
   "cell_type": "markdown",
   "id": "14ae64f8",
   "metadata": {},
   "source": [
    "#### ReLU activation function"
   ]
  },
  {
   "cell_type": "code",
   "execution_count": 42,
   "id": "d20b0ce3",
   "metadata": {},
   "outputs": [],
   "source": [
    "def h_conv2(x):\n",
    "    return tf.nn.relu(convolve2(x))"
   ]
  },
  {
   "cell_type": "markdown",
   "id": "e9346370",
   "metadata": {},
   "source": [
    "#### Max pooling"
   ]
  },
  {
   "cell_type": "code",
   "execution_count": 43,
   "id": "3bf175ec",
   "metadata": {},
   "outputs": [],
   "source": [
    "def conv2(x):  \n",
    "    return(\n",
    "    tf.nn.max_pool(h_conv2(x), ksize=[1, 2, 2, 1], strides=[1, 2, 2, 1], padding='SAME'))"
   ]
  },
  {
   "cell_type": "markdown",
   "id": "5daad659",
   "metadata": {},
   "source": [
    "### Fully Connected Layer"
   ]
  },
  {
   "cell_type": "markdown",
   "id": "f643282e",
   "metadata": {},
   "source": [
    "#### Flattening second layer"
   ]
  },
  {
   "cell_type": "code",
   "execution_count": 46,
   "id": "bcb1662c",
   "metadata": {},
   "outputs": [],
   "source": [
    "def layer2_matrix(x):\n",
    "    return tf.reshape(conv2(x), [-1, 7 * 7 * 64])"
   ]
  },
  {
   "cell_type": "code",
   "execution_count": 47,
   "id": "57fac57b",
   "metadata": {},
   "outputs": [],
   "source": [
    "W_fc1 = tf.Variable(tf.random.truncated_normal([7 * 7 * 64, 1024], stddev=0.1, seed = 2))\n",
    "b_fc1 = tf.Variable(tf.constant(0.1, shape=[1024])) # need 1024 biases for 1024 outputs"
   ]
  },
  {
   "cell_type": "markdown",
   "id": "1bbebeb9",
   "metadata": {},
   "source": [
    "#### Apply weights and biases"
   ]
  },
  {
   "cell_type": "code",
   "execution_count": 48,
   "id": "b50cc80f",
   "metadata": {},
   "outputs": [],
   "source": [
    "def fcl(x):\n",
    "    return tf.matmul(layer2_matrix(x), W_fc1) + b_fc1"
   ]
  },
  {
   "cell_type": "markdown",
   "id": "773be228",
   "metadata": {},
   "source": [
    "#### ReLU activation function"
   ]
  },
  {
   "cell_type": "code",
   "execution_count": 49,
   "id": "f22039ef",
   "metadata": {},
   "outputs": [],
   "source": [
    "def h_fc1(x):\n",
    "    return tf.nn.relu(fcl(x))"
   ]
  },
  {
   "cell_type": "markdown",
   "id": "0dbc8bc2",
   "metadata": {},
   "source": [
    "#### Dropout Layer"
   ]
  },
  {
   "cell_type": "code",
   "execution_count": 50,
   "id": "3f1e1f0c",
   "metadata": {},
   "outputs": [],
   "source": [
    "keep_prob=0.5\n",
    "def layer_drop(x): return tf.nn.dropout(h_fc1(x), keep_prob)"
   ]
  },
  {
   "cell_type": "markdown",
   "id": "672d92ec",
   "metadata": {},
   "source": [
    "#### Softmax Layer"
   ]
  },
  {
   "cell_type": "code",
   "execution_count": 52,
   "id": "2e1f4b52",
   "metadata": {},
   "outputs": [],
   "source": [
    "W_fc2 = tf.Variable(tf.random.truncated_normal([1024, 10], stddev=0.1, seed = 2)) #1024 neurons\n",
    "b_fc2 = tf.Variable(tf.constant(0.1, shape=[10])) # 10 possibilities for digits [0,1,2,3,4,5,6,7,8,9]"
   ]
  },
  {
   "cell_type": "code",
   "execution_count": 53,
   "id": "729a2b06",
   "metadata": {},
   "outputs": [],
   "source": [
    "def fc(x):\n",
    "    return tf.matmul(layer_drop(x), W_fc2) + b_fc2"
   ]
  },
  {
   "cell_type": "markdown",
   "id": "57cb3f4b",
   "metadata": {},
   "source": [
    "#### Apply softmax activation function"
   ]
  },
  {
   "cell_type": "code",
   "execution_count": 59,
   "id": "6557e9fb",
   "metadata": {},
   "outputs": [],
   "source": [
    "def y_CNN(x):\n",
    "    return tf.nn.softmax(fc(x))"
   ]
  },
  {
   "cell_type": "markdown",
   "id": "238305ef",
   "metadata": {},
   "source": [
    "### Training the model"
   ]
  },
  {
   "cell_type": "code",
   "execution_count": 55,
   "id": "2c9fe589",
   "metadata": {},
   "outputs": [],
   "source": [
    "def cross_entropy(y_label, y_pred):\n",
    "    return (-tf.reduce_sum(y_label * tf.math.log(y_pred + 1.e-10)))"
   ]
  },
  {
   "cell_type": "markdown",
   "id": "c6082c09",
   "metadata": {},
   "source": [
    "#### Optimizer"
   ]
  },
  {
   "cell_type": "code",
   "execution_count": 56,
   "id": "bcfdcc35",
   "metadata": {},
   "outputs": [],
   "source": [
    "optimizer = tf.keras.optimizers.Adam(1e-4)"
   ]
  },
  {
   "cell_type": "code",
   "execution_count": 57,
   "id": "6ab7c571",
   "metadata": {},
   "outputs": [],
   "source": [
    "variables = [W_conv1, b_conv1, W_conv2, b_conv2, \n",
    "             W_fc1, b_fc1, W_fc2, b_fc2, ]\n",
    "\n",
    "def train_step(x, y):\n",
    "    with tf.GradientTape() as tape:\n",
    "        current_loss = cross_entropy( y, y_CNN( x ))\n",
    "        grads = tape.gradient( current_loss , variables )\n",
    "        optimizer.apply_gradients( zip( grads , variables ) )\n",
    "        return current_loss.numpy()"
   ]
  },
  {
   "cell_type": "code",
   "execution_count": 60,
   "id": "354c9589",
   "metadata": {},
   "outputs": [
    {
     "name": "stdout",
     "output_type": "stream",
     "text": [
      "epoch  0 batch 50 loss: 101.41582 accuracy 0.34\n",
      "epoch  0 batch 100 loss: 65.84878 accuracy 0.64\n",
      "epoch  0 batch 150 loss: 27.461287 accuracy 0.78\n",
      "epoch  0 batch 200 loss: 21.768959 accuracy 0.88\n",
      "epoch  0 batch 250 loss: 33.211197 accuracy 0.82\n",
      "epoch  0 batch 300 loss: 17.907818 accuracy 0.82\n",
      "epoch  0 batch 350 loss: 20.526367 accuracy 0.86\n",
      "epoch  0 batch 400 loss: 17.936607 accuracy 0.9\n",
      "epoch  0 batch 450 loss: 32.60258 accuracy 0.86\n",
      "epoch  0 batch 500 loss: 11.807394 accuracy 0.88\n",
      "epoch  0 batch 550 loss: 10.53099 accuracy 0.94\n",
      "epoch  0 batch 600 loss: 16.493547 accuracy 0.96\n",
      "epoch  0 batch 650 loss: 13.782297 accuracy 0.86\n",
      "epoch  0 batch 700 loss: 7.1836405 accuracy 0.94\n",
      "epoch  0 batch 750 loss: 25.499521 accuracy 0.9\n",
      "epoch  0 batch 800 loss: 7.687255 accuracy 0.98\n",
      "epoch  0 batch 850 loss: 19.30201 accuracy 0.96\n",
      "epoch  0 batch 900 loss: 14.556013 accuracy 0.94\n",
      "epoch  0 batch 950 loss: 18.802406 accuracy 0.92\n",
      "epoch  0 batch 1000 loss: 13.238857 accuracy 0.92\n",
      "epoch  0 batch 1050 loss: 4.1660295 accuracy 0.98\n",
      "epoch  0 batch 1100 loss: 17.245625 accuracy 0.92\n",
      "epoch  0 batch 1150 loss: 12.673609 accuracy 0.94\n",
      "epoch  0 batch 1200 loss: 1.8199401 accuracy 1.0\n",
      "end of epoch  0 loss 11844.008 accuracy 0.9389167\n"
     ]
    }
   ],
   "source": [
    "loss_values=[]\n",
    "accuracies = []\n",
    "epochs = 1\n",
    "\n",
    "for i in range(epochs):\n",
    "    j=0\n",
    "    # each batch has 50 examples\n",
    "    for x_train_batch, y_train_batch in train_ds2:\n",
    "        j+=1\n",
    "        current_loss = train_step(x_train_batch, y_train_batch)\n",
    "        if j%50==0: #reporting intermittent batch statistics\n",
    "            correct_prediction = tf.equal(tf.argmax(y_CNN(x_train_batch), axis=1),\n",
    "                                  tf.argmax(y_train_batch, axis=1))\n",
    "            #  accuracy\n",
    "            accuracy = tf.reduce_mean(tf.cast(correct_prediction, tf.float32)).numpy()\n",
    "            print(\"epoch \", str(i), \"batch\", str(j), \"loss:\", str(current_loss),\n",
    "                     \"accuracy\", str(accuracy)) \n",
    "            \n",
    "    current_loss = cross_entropy( y_train, y_CNN( x_image_train )).numpy()\n",
    "    loss_values.append(current_loss)\n",
    "    correct_prediction = tf.equal(tf.argmax(y_CNN(x_image_train), axis=1),\n",
    "                                  tf.argmax(y_train, axis=1))\n",
    "    #  accuracy\n",
    "    accuracy = tf.reduce_mean(tf.cast(correct_prediction, tf.float32)).numpy()\n",
    "    accuracies.append(accuracy)\n",
    "    print(\"end of epoch \", str(i), \"loss\", str(current_loss), \"accuracy\", str(accuracy) )  "
   ]
  },
  {
   "cell_type": "markdown",
   "id": "45fb793c",
   "metadata": {},
   "source": [
    "### Final Result"
   ]
  },
  {
   "cell_type": "markdown",
   "id": "a13c2cef",
   "metadata": {},
   "source": [
    "**The Deep Learning model achieved the accuracy of 93% after just one epoch.**"
   ]
  }
 ],
 "metadata": {
  "kernelspec": {
   "display_name": "Python 3 (ipykernel)",
   "language": "python",
   "name": "python3"
  },
  "language_info": {
   "codemirror_mode": {
    "name": "ipython",
    "version": 3
   },
   "file_extension": ".py",
   "mimetype": "text/x-python",
   "name": "python",
   "nbconvert_exporter": "python",
   "pygments_lexer": "ipython3",
   "version": "3.11.5"
  }
 },
 "nbformat": 4,
 "nbformat_minor": 5
}
